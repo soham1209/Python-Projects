{
 "cells": [
  {
   "cell_type": "code",
   "execution_count": null,
   "metadata": {},
   "outputs": [],
   "source": [
    "#gui\n",
    "#webcraping from cricbuzz to get all score\n",
    "#display the live score update on python app"
   ]
  },
  {
   "cell_type": "code",
   "execution_count": 5,
   "metadata": {},
   "outputs": [
    {
     "name": "stdout",
     "output_type": "stream",
     "text": [
      "Requirement already satisfied: Pillow in c:\\users\\soham\\anaconda3\\lib\\site-packages (9.4.0)\n",
      "Note: you may need to restart the kernel to use updated packages.\n"
     ]
    }
   ],
   "source": [
    "pip install Pillow"
   ]
  },
  {
   "cell_type": "code",
   "execution_count": 4,
   "metadata": {},
   "outputs": [
    {
     "name": "stdout",
     "output_type": "stream",
     "text": [
      "Requirement already satisfied: requests in c:\\users\\soham\\anaconda3\\lib\\site-packages (2.31.0)\n",
      "Requirement already satisfied: charset-normalizer<4,>=2 in c:\\users\\soham\\anaconda3\\lib\\site-packages (from requests) (2.0.4)\n",
      "Requirement already satisfied: idna<4,>=2.5 in c:\\users\\soham\\anaconda3\\lib\\site-packages (from requests) (3.4)\n",
      "Requirement already satisfied: urllib3<3,>=1.21.1 in c:\\users\\soham\\anaconda3\\lib\\site-packages (from requests) (1.26.16)\n",
      "Requirement already satisfied: certifi>=2017.4.17 in c:\\users\\soham\\anaconda3\\lib\\site-packages (from requests) (2023.7.22)\n",
      "Note: you may need to restart the kernel to use updated packages.\n"
     ]
    }
   ],
   "source": [
    "pip install requests"
   ]
  },
  {
   "cell_type": "code",
   "execution_count": 6,
   "metadata": {},
   "outputs": [
    {
     "name": "stdout",
     "output_type": "stream",
     "text": [
      "Collecting bs4\n",
      "  Using cached bs4-0.0.1.tar.gz (1.1 kB)\n",
      "  Preparing metadata (setup.py): started\n",
      "  Preparing metadata (setup.py): finished with status 'done'\n",
      "Requirement already satisfied: beautifulsoup4 in c:\\users\\soham\\anaconda3\\lib\\site-packages (from bs4) (4.12.2)\n",
      "Requirement already satisfied: soupsieve>1.2 in c:\\users\\soham\\anaconda3\\lib\\site-packages (from beautifulsoup4->bs4) (2.4)\n",
      "Building wheels for collected packages: bs4\n",
      "  Building wheel for bs4 (setup.py): started\n",
      "  Building wheel for bs4 (setup.py): finished with status 'done'\n",
      "  Created wheel for bs4: filename=bs4-0.0.1-py3-none-any.whl size=1264 sha256=973c326633b36f8d7fab04f1d555c9cb7128709489676f91a9c97e4f66b50660\n",
      "  Stored in directory: c:\\users\\soham\\appdata\\local\\pip\\cache\\wheels\\d4\\c8\\5b\\b5be9c20e5e4503d04a6eac8a3cd5c2393505c29f02bea0960\n",
      "Successfully built bs4\n",
      "Installing collected packages: bs4\n",
      "Successfully installed bs4-0.0.1\n",
      "Note: you may need to restart the kernel to use updated packages.\n"
     ]
    }
   ],
   "source": [
    "pip install bs4"
   ]
  },
  {
   "cell_type": "code",
   "execution_count": 1,
   "metadata": {},
   "outputs": [],
   "source": [
    "\n",
    "from tkinter import *\n",
    "from tkinter import Tk\n",
    "from tkinter.ttk import Combobox\n",
    "from PIL import ImageTk \n",
    "from bs4 import BeautifulSoup\n",
    "import requests\n",
    "import re\n"
   ]
  },
  {
   "cell_type": "code",
   "execution_count": 31,
   "metadata": {},
   "outputs": [],
   "source": [
    "class CricketScore:\n",
    "    #Constructor\n",
    "    def __init__(self, rootWindow):\n",
    "        self.rootWindow = rootWindow\n",
    "        self.rootWindow.title(\"LIVE CRICKET SCORE\")\n",
    "        self.rootWindow.geometry('800x700')\n",
    "        self.bg = ImageTk.PhotoImage(file=\"cric.jpg\")\n",
    "        bg = Label(self.rootWindow, image=self.bg).place(x=0, y=0)\n",
    "\n",
    "        #give lable to gui\n",
    "        self.label = Label(self.rootWindow,text='Live Match',font=('impact',60),compound='center').pack(padx=100,pady=50)\n",
    "        #Featch the live match detalil and set it in gui\n",
    "        self.var = StringVar()#here we are dumping data\n",
    "        self.matches =self.match_detail()#here we declare the funton so we need to define that\n",
    "        self.data = [i for i in self.matches.keys()]\n",
    "        self.cb = Combobox(self.rootWindow,values= self.data, width=60)\n",
    "        self.cb.place(x=210,y=190)\n",
    "\n",
    "        #button to check the details\n",
    "        self.b1=Button(self.rootWindow,text=\"Check Score\",font=(\"impact\",20),command=self.show_match_details).place(x=20,y=600)\n",
    "    \n",
    "    \n",
    "    #creation Command for check socre button\n",
    "    def select(self):\n",
    "        return self.cb.get()\n",
    "\n",
    "    \n",
    "    #funciton to scrap the website cricbazz\n",
    "    def scrap(self):\n",
    "        URL = \"https://www.cricbuzz.com/\"\n",
    "        page=requests.get(URL)#here we make the http request\n",
    "        #parse the resposnse and fetch the data\n",
    "        soup = BeautifulSoup(page.content,\"html.parser\")#here we get all html data\n",
    "        results = soup.find(id=\"match_menu_container\") #finding the right div\n",
    "        scrap_result= results.find_all(\"li\",class_=\"cb-match-card\")#cb match card show proper match cards \n",
    "        return scrap_result\n",
    "\n",
    "    \n",
    "    #we will lode the all matches details \n",
    "    def match_detail(self):\n",
    "        #scrap the data\n",
    "        details = self.scrap()#here we declare the funton so we need to define that\n",
    "                                #by scrap funtion details get all score card\n",
    "\n",
    "        #need to prese & read the relevent data\n",
    "        live_match={}\n",
    "        for detail in details:\n",
    "            live_team_details={}\n",
    "            summary = self.match_summary(detail)\n",
    "            if summary is not None:\n",
    "                match_header= self.match_header(detail).text\n",
    "                teams= self.teams_name(detail)\n",
    "                score_card= self.team_score(detail)\n",
    "\n",
    "                live_team_details['summary']=summary.text\n",
    "                live_team_details['match_header']=match_header\n",
    "                live_team_details['score_card']=score_card[0]+ \" :: \"+ score_card[1]\n",
    "                live_match[teams[0] + \"vs\" + teams[1]]=live_team_details\n",
    "        return live_match\n",
    "    \n",
    "    \n",
    "    #frunction to fetch the given match summary\n",
    "    def match_summary(self,detail):\n",
    "        return detail.find(\"div\",class_=\"cb-mtch-crd-state\")\n",
    "        \n",
    "\n",
    "    #fruntion of fetch the match details\n",
    "    def match_header(self,detail):\n",
    "        return detail.find(\"div\",class_=\"cb-mtch-crd-hdr\")\n",
    "\n",
    "    \n",
    "    #function to find the team name\n",
    "    def teams_name(self,detail):\n",
    "        t=[]\n",
    "        team1_element = detail.find(\"div\", class_=\"cb-hmscg-bat-txt\")\n",
    "        if team1_element:\n",
    "            team1_details = team1_element.text\n",
    "            team1_index = re.search(r\"\\d\", team1_details).start() if re.search(r\"\\d\", team1_details) else len(team1_details)\n",
    "            t.append(team1_details[:team1_index])\n",
    "\n",
    "        team2_element = detail.find(\"div\", class_=\"cb-hmscg-bwl-txt\")\n",
    "        if team2_element:\n",
    "            team2_details = team2_element.text\n",
    "            team2_index = re.search(r\"\\d\", team2_details).start() if re.search(r\"\\d\", team2_details) else len(team2_details)\n",
    "            t.append(team2_details[:team2_index])\n",
    "\n",
    "        return t\n",
    "\n",
    "    \n",
    "    #function to featch the score of team \n",
    "    def team_score(self,detail):\n",
    "        t=[]        \n",
    "        team1_element = detail.find(\"div\", class_=\"cb-hmscg-bat-txt\")\n",
    "        if team1_element:#it check value is none or not\n",
    "            team1_details = team1_element.text\n",
    "            t.append(team1_details)\n",
    "        \n",
    "        team2_element = detail.find(\"div\", class_=\"cb-hmscg-bwl-txt\")\n",
    "        if team2_element:\n",
    "            team2_details=team2_element.text\n",
    "            t.append(team2_details)\n",
    "        \n",
    "        return t\n",
    "\n",
    "    \n",
    "    #function to show mathch details\n",
    "    def show_match_details(self):\n",
    "        #building match details frame\n",
    "        self.frame1 = Frame(self.rootWindow, bg=\"#F39A01\")\n",
    "        self.frame1.place(x=100,y=240,width=600,height=300)\n",
    "\n",
    "        #fetching details of the match\n",
    "        x = self.matches[self.select()]\n",
    "\n",
    "        #displaying team nemes\n",
    "        Label(self.frame1, text=self.select() + \" - \" + x['match_header'], font=(\"impact\", 20), bg=\"#F39A01\", fg=\"#0047AB\",bd=0).place(x=10, y=15)\n",
    "\n",
    "        # Dispalying details of the match\n",
    "        Label(self.frame1, text=\"Score Details : \", font=(\"impact\", 20), bg=\"#F39A01\", fg=\"black\",bd=0).place(x=10, y=60)\n",
    "        Label(self.frame1, text=x['score_card'], font=(\"impact\", 20 ), bg=\"#F39A01\", fg=\"black\",bd=0).place(x=20, y=100)\n",
    "        Label(self.frame1, text=\"Summary : \", font=(\"impact\", 20 ), bg=\"#F39A01\", fg=\"black\",bd=0).place(x=10, y=180)\n",
    "        Label(self.frame1, text=x['summary'], font=(\"impact\", 20), bg=\"#F39A01\", fg=\"black\",bd=0).place(x=20, y=220)\n",
    "\n",
    "\n",
    "#main funtion to start\n",
    "def main():\n",
    "    # creating tkinter window\n",
    "    rootWindow = Tk()#object of tk\n",
    "    \n",
    "    # creating object for class cricket_score\n",
    "    obj = CricketScore(rootWindow)\n",
    "   \n",
    "    # starting the gui\n",
    "    rootWindow.mainloop()\n",
    "\n",
    "\n",
    "if __name__=='__main__':\n",
    "    main()"
   ]
  }
 ],
 "metadata": {
  "kernelspec": {
   "display_name": "Python 3",
   "language": "python",
   "name": "python3"
  },
  "language_info": {
   "codemirror_mode": {
    "name": "ipython",
    "version": 3
   },
   "file_extension": ".py",
   "mimetype": "text/x-python",
   "name": "python",
   "nbconvert_exporter": "python",
   "pygments_lexer": "ipython3",
   "version": "3.11.5"
  }
 },
 "nbformat": 4,
 "nbformat_minor": 2
}
